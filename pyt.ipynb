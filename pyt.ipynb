{
 "cells": [
  {
   "cell_type": "code",
   "execution_count": null,
   "id": "a133da68",
   "metadata": {
    "vscode": {
     "languageId": "plaintext"
    }
   },
   "outputs": [],
   "source": [
    "# Optimization Project using PuLP: Maximize Profit\n",
    "\n",
    "# Step 1: Install and Import Required Libraries\n",
    "# !pip install pulp\n",
    "from pulp import LpMaximize, LpProblem, LpVariable, value\n",
    "import matplotlib.pyplot as plt\n",
    "\n",
    "# Step 2: Define the Business Problem\n",
    "# A company makes Product A and Product B\n",
    "# Constraints:\n",
    "# - Product A: 2 hrs machine, 3 hrs labor, ₹50 profit\n",
    "# - Product B: 4 hrs machine, 2 hrs labor, ₹40 profit\n",
    "# Resources: 100 machine hrs, 90 labor hrs\n",
    "\n",
    "# Step 3: Define LP Model\n",
    "model = LpProblem(name=\"maximize-profit\", sense=LpMaximize)\n",
    "\n",
    "# Step 4: Define Variables (Decision Variables)\n",
    "product_a = LpVariable(name=\"Product_A\", lowBound=0)\n",
    "product_b = LpVariable(name=\"Product_B\", lowBound=0)\n",
    "\n",
    "# Step 5: Add Objective Function\n",
    "model += 50 * product_a + 40 * product_b, \"Total Profit\"\n",
    "\n",
    "# Step 6: Add Constraints\n",
    "model += (2 * product_a + 4 * product_b <= 100, \"Machine_Time\")\n",
    "model += (3 * product_a + 2 * product_b <= 90, \"Labor_Time\")\n",
    "\n",
    "# Step 7: Solve the Model\n",
    "model.solve()\n",
    "\n",
    "# Step 8: Print Results\n",
    "print(\"Status:\", model.status)\n",
    "print(\"Optimal Solution Found:\")\n",
    "print(f\"  Product A: {product_a.value()} units\")\n",
    "print(f\"  Product B: {product_b.value()} units\")\n",
    "print(f\"  Maximum Profit: ₹{value(model.objective)}\")\n",
    "\n",
    "\n",
    "# Step 9: Visualize Constraints and Feasible Region (Optional)\n",
    "import numpy as np\n",
    "\n",
    "x = np.linspace(0, 60, 400)\n",
    "y1 = (100 - 2*x) / 4   # Machine constraint\n",
    "y2 = (90 - 3*x) / 2    # Labor constraint\n",
    "\n",
    "plt.figure(figsize=(8,6))\n",
    "plt.plot(x, y1, label='Machine Time Constraint')\n",
    "plt.plot(x, y2, label='Labor Time Constraint')\n",
    "plt.xlim((0, 50))\n",
    "plt.ylim((0, 50))\n",
    "plt.xlabel('Product A')\n",
    "plt.ylabel('Product B')\n",
    "plt.title('Feasible Region')\n",
    "plt.fill_between(x, np.minimum(y1, y2), color='gray', alpha=0.3)\n",
    "plt.plot(product_a.value(), product_b.value(), 'ro', label='Optimal Point')\n",
    "plt.legend()\n",
    "plt.grid()\n",
    "plt.show()\n"
   ]
  }
 ],
 "metadata": {
  "language_info": {
   "name": "python"
  }
 },
 "nbformat": 4,
 "nbformat_minor": 5
}
